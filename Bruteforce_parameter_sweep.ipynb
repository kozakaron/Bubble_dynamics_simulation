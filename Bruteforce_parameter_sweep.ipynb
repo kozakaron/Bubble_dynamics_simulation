{
 "cells": [
  {
   "cell_type": "code",
   "execution_count": 1,
   "metadata": {},
   "outputs": [
    {
     "name": "stdout",
     "output_type": "stream",
     "text": [
      "path=INP file examples\\chem_Otomo2018_without_O.inp\n",
      "\u001b[34mNote, lambda value for specie 'H' is not in data.py: 0.0 is used\u001b[0m\n",
      "\u001b[34mNote, lambda value for specie 'NH2' is not in data.py: 0.0 is used\u001b[0m\n",
      "\u001b[34mNote, lambda value for specie 'NH' is not in data.py: 0.0 is used\u001b[0m\n",
      "\u001b[34mNote, lambda value for specie 'N' is not in data.py: 0.0 is used\u001b[0m\n",
      "\u001b[34mNote, lambda value for specie 'NNH' is not in data.py: 0.0 is used\u001b[0m\n",
      "\u001b[34mNote, lambda value for specie 'N2H4' is not in data.py: 0.0 is used\u001b[0m\n",
      "\u001b[34mNote, lambda value for specie 'N2H3' is not in data.py: 0.0 is used\u001b[0m\n",
      "\u001b[34mNote, lambda value for specie 'N2H2' is not in data.py: 0.0 is used\u001b[0m\n",
      "\u001b[34mNote, lambda value for specie 'H2NN' is not in data.py: 0.0 is used\u001b[0m\n",
      "\u001b[33mWarning, third body 'H2O' is not in species in line 64 (' H2/2.5/ H2O/12/ AR/0.0/ ') in reaction 'H2+M=H+H+M'\u001b[0m\n",
      "\u001b[33mWarning, third body 'AR' is not in species in line 64 (' H2/2.5/ H2O/12/ AR/0.0/ ') in reaction 'H2+M=H+H+M'\u001b[0m\n",
      "model: chem_Otomo2018_without_O\n",
      "File 'parameters.py' succesfully created\n",
      "chem_Otomo2018_without_O\n"
     ]
    }
   ],
   "source": [
    "\"\"\"Create parameters.py from a .inp and load it\"\"\"\n",
    "# This cell is facultative, you can use an existing parameters.py\n",
    "\n",
    "# Directory for .inp file:\n",
    "path = 'INP file examples\\\\chem_Otomo2018_without_O.inp'\n",
    "\n",
    "# import libraries:\n",
    "import importlib   # for reloading your own files\n",
    "from termcolor import colored   # for colored error messages\n",
    "\n",
    "# import inp_data_extractor.py as inp:\n",
    "try:\n",
    "    import inp_data_extractor as inp\n",
    "except ImportError:\n",
    "    try:\n",
    "        from Bubble_dynamics_simulation import inp_data_extractor as inp\n",
    "    except ImportError as error:\n",
    "        print(colored(f'Error, \\'inp_data_extractor.py\\' not found', 'red'))\n",
    "        raise error\n",
    "    except Exception as error:\n",
    "        print(colored(f'Error, \\'inp_data_extractor.py\\' failed to load', 'red'))\n",
    "        raise error\n",
    "except Exception as error:\n",
    "    print(colored(f'Error, \\'inp_data_extractor.py\\' failed to load', 'red'))\n",
    "    raise error\n",
    "importlib.reload(inp)   # reload changes you made\n",
    "\n",
    "# create parameters.py\n",
    "inp.extract(path)\n",
    "\n",
    "# load parameters.py\n",
    "import parameters as par\n",
    "importlib.reload(par)\n",
    "print(par.model)"
   ]
  },
  {
   "cell_type": "code",
   "execution_count": 2,
   "metadata": {},
   "outputs": [
    {
     "name": "stdout",
     "output_type": "stream",
     "text": [
      "model: chem_Otomo2018_without_O\n",
      "target specie: NH3\n",
      "excitation: sin_impulse (control parameters: ['p_A', 'freq', 'n'])\n",
      "enable heat transfer: \u001b[32mTrue\u001b[0m\tenable evaporation: \u001b[31mFalse\u001b[0m\tenable reactions: \u001b[32mTrue\u001b[0m\tenable dissipated energy: \u001b[32mTrue\u001b[0m\n"
     ]
    }
   ],
   "source": [
    "\"\"\"Libraries\"\"\"\n",
    "\n",
    "# for plotting:\n",
    "%matplotlib inline\n",
    "import matplotlib.pyplot as plt\n",
    "plt.rcParams.update({'font.size': 18})\n",
    "\n",
    "import numpy as np   # matrices, math\n",
    "import time   # runtime measurement\n",
    "from multiprocessing import Pool, cpu_count   # multithreading\n",
    "import importlib   # reload changes you made\n",
    "import itertools   # assemble all combinations of control parameters\n",
    "import json   # convert dictionary to string\n",
    "\n",
    "# import full_bubble_model.py as de:\n",
    "_already_imported = 'de' in globals()\n",
    "try:\n",
    "    import full_bubble_model as de\n",
    "except ImportError:\n",
    "    try:\n",
    "        from  Bubble_dynamics_simulation import full_bubble_model as de\n",
    "    except ImportError as _error:\n",
    "        print(colored(f'Error, \\'full_bubble_model.py\\' not found', 'red'))\n",
    "        raise _error\n",
    "    except Exception as _error:\n",
    "        print(colored(f'Error, \\'full_bubble_model.py\\' failed to load', 'red'))\n",
    "        raise _error\n",
    "except Exception as _error:\n",
    "    print(colored(f'Error, \\'full_bubble_model.py\\' failed to load', 'red'))\n",
    "    raise _error\n",
    "if _already_imported: importlib.reload(de)   # reload changes you made"
   ]
  },
  {
   "cell_type": "code",
   "execution_count": 3,
   "metadata": {},
   "outputs": [
    {
     "name": "stdout",
     "output_type": "stream",
     "text": [
      "R_E: 50\n",
      "ratio: 1\n",
      "P_amb: 1\n",
      "T_inf: 1\n",
      "alfa_M: 1\n",
      "rho_L: 1\n",
      "c_L: 1\n",
      "surfactant: 1\n",
      "p_A: 50\n",
      "freq: 1\n",
      "n: 1\n",
      "________________________\n",
      "total combinations: 2500\n"
     ]
    }
   ],
   "source": [
    "\"\"\"Control parameter ranges and division\"\"\"\n",
    "# a list for each control parameter, containing all the possible values\n",
    "\n",
    "ranges = dict(\n",
    "  # Initial conditions:\n",
    "    # bubble equilibrium radius [m]\n",
    "    R_E = [1e-6*x for x in np.linspace(5.0, 125.0, 50)], # [um --> m]\n",
    "    # initial radius / equilibrium radius R_0/R_E [-]\n",
    "    ratio = [1.0],\n",
    "  # Ambient parameters:\n",
    "    # ambient pressure [Pa]\n",
    "    P_amb = [x * par.atm2Pa for x in [1.0]], # [atm --> Pa]\n",
    "    # ambient temperature [K]       \n",
    "    T_inf = [par.absolute_zero + x for x in [20.0]], # [°C --> K]\n",
    "  # Liquid parameters:\n",
    "    # water accommodation coefficient [-]\n",
    "    alfa_M = [0.35],\n",
    "    # vapour pressure [Pa]\n",
    "    #P_v = par.P_v, # calculated from T_inf\n",
    "    # dynamic viscosity [Pa*s]\n",
    "    #mu_L = par.mu_L, # calculated from T_inf\n",
    "    # density [kg/m^3]\n",
    "    rho_L =  [998.20],\n",
    "    # sound speed [m/s]\n",
    "    c_L = [par.c_L],\n",
    "    # surfactant (surface tension modfier) [-]\n",
    "    surfactant = [1.0],\n",
    "  # Excitation parameters: (excitation_type = sin_impulse)\n",
    "    # excitation amplitude [Pa]\n",
    "    p_A = [-x * par.bar2Pa for x in np.linspace(1.0, 3.0, 50)], # [bar --> Pa]\n",
    "    # excitation frequency [Hz]\n",
    "    freq =  [20000.00],\n",
    "    # excitation duration in period times [-]\n",
    "    n =  [1.00],\n",
    ")\n",
    "\n",
    "for key in de.excitation_args:\n",
    "    if key not in ranges:\n",
    "        print(colored(f'Error, {key} not in ranges', 'red'))\n",
    "# print total combinations:\n",
    "for key in ranges:\n",
    "    print(f'{key}: {len(ranges[key])}')\n",
    "total_combinations = f'total combinations: {np.prod([len(ranges[key]) for key in ranges])}'\n",
    "print(''.join(['_' for i in range(len(total_combinations))]))\n",
    "print(total_combinations)"
   ]
  },
  {
   "cell_type": "code",
   "execution_count": 4,
   "metadata": {},
   "outputs": [
    {
     "name": "stdout",
     "output_type": "stream",
     "text": [
      "Assemble cpars: 0.01 s\n",
      "Assemble kwargs_list: 0.00 s\n"
     ]
    }
   ],
   "source": [
    "\"\"\"Get all combinations\"\"\"\n",
    "# Make a list, with one dictionary for eachy parameter combinations\n",
    "\n",
    "start = time.time()\n",
    "cpars = []\n",
    "ID = 1\n",
    "for values in itertools.product(*ranges.values()):\n",
    "    cpar = dict(zip(ranges.keys(), values))\n",
    "    cpar['ID'] = ID                      # ID of control parameter (not used during calculation)\n",
    "    cpar['gases'] = [par.index['H2'], par.index['N2']]    # indexes of species in initial bubble (list of species indexes)\n",
    "    cpar['fractions'] = [0.75, 0.25]            # molar fractions of species in initial bubble (list of fractions for every gas)\n",
    "    # Calculate pressure/temperature dependent parameters:\n",
    "    cpar['mu_L'] = de.viscosity(cpar['T_inf'])\n",
    "    cpar['P_v'] = de.vapour_pressure(cpar['T_inf'])\n",
    "    cpars.append(cpar)\n",
    "    ID += 1\n",
    "\n",
    "print(f'Assemble cpars: {time.time()-start:.2f} s')\n",
    "start = time.time()\n",
    "\n",
    "# Create input dictionary for de.simulate(), a list of dictionaries with cpar and other arguments\n",
    "kwargs_list = [dict(cpar=cpar, t_int=np.array([0.0, 1.0]), LSODA_timeout=30, Radau_timeout=100) for cpar in cpars]\n",
    "end = time.time()\n",
    "print(f'Assemble kwargs_list: {time.time()-start:.2f} s')"
   ]
  },
  {
   "cell_type": "code",
   "execution_count": null,
   "metadata": {},
   "outputs": [],
   "source": [
    "\"\"\"Save settings as txt\"\"\"\n",
    "\n",
    "# create folder for parameter study results:\n",
    "file = de.Make_dir('test_1atm_20000Hz_2D')\n",
    "\n",
    "# save all settings (full_bubble_model.py, parameters.py, ranges) as txt:\n",
    "combined_str = f'''\n",
    "total_combinations = {np.prod([len(ranges[key]) for key in ranges])}\n",
    "ranges = {json.dumps(ranges, indent=4)}'''\n",
    "\n",
    "file.write_string(combined_str, 'brutefroce_parameter_sweep_settings')"
   ]
  },
  {
   "cell_type": "code",
   "execution_count": null,
   "metadata": {},
   "outputs": [
    {
     "name": "stdout",
     "output_type": "stream",
     "text": [
      "index:     2488/2500;   error_code:    2;   steps: 12627   ;   runtime:  34.17 [s]   |   R_E= 125.00 [um]; ratio=  1.00 [-]; P_amb=  1.01 [bar]; T_inf= 20.00 [°C]; alfa_M=  0.35 [-]; P_v=  2338 [Pa]; mu_L= 0.00102 [Pa*s]; rho_L= 998.2 [kg/m^3]; c_L=  1483 [m/s]; surfactant= 100 [%]   |   p_A=-251020.4081632653; freq=20000.0     ; n=1.0         ;    |   NH3 production:  4.086804e+06 [MJ/kg] (best:  913.1 [MJ/kg])                                                                             \n",
      "\n",
      "DONE\n",
      "total time:  0 hours  11 mins\n",
      "             668.03 [s]   ( 0.27 [s/run])\n"
     ]
    }
   ],
   "source": [
    "\"\"\"Parameter study, multithread\"\"\"\n",
    "# Runs each combinations in cpars, and saves the results into CSV files\n",
    "# use Pool(processes=cpu_count()-1) to limit number of threads being used.\n",
    "# use pool.imap(...) instead of pool.imap_unordered(...) to preserve order in which cpars was made\n",
    "\n",
    "max_lines = 1000    # maximum length of a CSV\n",
    "best_energy_demand = 1e30\n",
    "\n",
    "start = time.time()\n",
    "file.new_file()\n",
    "with Pool(processes=cpu_count(), maxtasksperchild=100) as pool:\n",
    "    results = pool.imap_unordered(de.simulate, kwargs_list)\n",
    "\n",
    "    for data in results:\n",
    "      # save results:\n",
    "        if file.lines > max_lines:\n",
    "            file.close()\n",
    "            file.new_file()\n",
    "        data = de.dotdict(data)\n",
    "        file.write_line(data)\n",
    "      # print stuff:\n",
    "        if data.success and data.energy_demand > 0 and data.energy_demand < best_energy_demand:\n",
    "            best_energy_demand = data.energy_demand\n",
    "        excitation_params = ''.join([f'{key}={data[key]: <12}; ' for key in de.excitation_args])\n",
    "        print(f'index: {data.ID: >8}/{len(cpars)};   error_code: {data.error_code: >4};   steps: {data.steps: <8};   runtime: {data.elapsed_time: 6.2f} [s]   |   '+\n",
    "              f'R_E={1e6*data.R_E: 6.2f} [um]; ratio={data.ratio: 6.2f} [-]; P_amb={1e-5*data.P_amb: 6.2f} [bar]; T_inf={data.T_inf-273.15: 6.2f} [°C]; '+\n",
    "              f'alfa_M={data.alfa_M: 6.2f} [-]; P_v={data.P_v: 6.0f} [Pa]; mu_L={data.mu_L: 6.5f} [Pa*s]; rho_L={data.rho_L: 6.1f} [kg/m^3]; c_L={data.c_L: 6.0f} [m/s]; '+\n",
    "              f'surfactant={100*data.surfactant: 3.0f} [%]   |   {excitation_params}   |   '+\n",
    "              f'{de.target_specie} production: {data.energy_demand: e} [MJ/kg] (best: {best_energy_demand: .1f} [MJ/kg])'+\n",
    "              '                                                 ', end='\\r')\n",
    "              \n",
    "file.close()\n",
    "end = time.time()\n",
    "elapsed = end - start\n",
    "print(f'\\n\\nDONE')\n",
    "print(f'total time: {(elapsed / 3600): .0f} hours {((elapsed % 3600) / 60): .0f} mins')\n",
    "print(f'            {elapsed: .2f} [s]   ({(elapsed / len(    cpars)): .2f} [s/run])')"
   ]
  },
  {
   "cell_type": "code",
   "execution_count": 7,
   "metadata": {},
   "outputs": [],
   "source": [
    "# If search is prematurely terminated, close opened file:\n",
    "file.close()"
   ]
  }
 ],
 "metadata": {
  "kernelspec": {
   "display_name": "Python 3 (ipykernel)",
   "language": "python",
   "name": "python3"
  },
  "language_info": {
   "codemirror_mode": {
    "name": "ipython",
    "version": 3
   },
   "file_extension": ".py",
   "mimetype": "text/x-python",
   "name": "python",
   "nbconvert_exporter": "python",
   "pygments_lexer": "ipython3",
   "version": "3.10.11"
  },
  "vscode": {
   "interpreter": {
    "hash": "82bdb1de78d07c46b3c7786b6732da9a3bdbb8393012f65f5b4f35977248bea0"
   }
  }
 },
 "nbformat": 4,
 "nbformat_minor": 4
}
